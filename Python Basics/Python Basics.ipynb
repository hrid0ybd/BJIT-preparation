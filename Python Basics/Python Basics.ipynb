{
 "cells": [
  {
   "cell_type": "markdown",
   "metadata": {},
   "source": [
    "<h1 style=\"color: red\">Python Basics</h1>"
   ]
  },
  {
   "cell_type": "code",
   "execution_count": null,
   "metadata": {},
   "outputs": [],
   "source": [
    "'''\n",
    "\n",
    "Hridoy Ahmed\n",
    "Daffodil International University\n",
    "Dept. of Computer Science & Engineering\n",
    "Web: hridoyahmed.pythonanywhere.com\n",
    "Email: hridoy15-7981@diu.edu.bd\n",
    "Facebook Profile: https://web.facebook.com/HridoyAhmedCSE\n",
    "\n",
    "'''"
   ]
  },
  {
   "cell_type": "markdown",
   "metadata": {},
   "source": [
    "========================= Python Data Types =========================="
   ]
  },
  {
   "cell_type": "code",
   "execution_count": null,
   "metadata": {},
   "outputs": [],
   "source": []
  },
  {
   "cell_type": "code",
   "execution_count": null,
   "metadata": {},
   "outputs": [],
   "source": [
    "'''\n",
    "int\n",
    "float\n",
    "double\n",
    "bool\n",
    "string\n",
    "list\n",
    "tuple\n",
    "dict\n",
    "set\n",
    "etc.\n",
    "'''"
   ]
  },
  {
   "cell_type": "code",
   "execution_count": 1,
   "metadata": {},
   "outputs": [],
   "source": [
    "# Integer\n",
    "number = 10"
   ]
  },
  {
   "cell_type": "code",
   "execution_count": 2,
   "metadata": {},
   "outputs": [],
   "source": [
    "# Float\n",
    "number2 = 10.5 "
   ]
  },
  {
   "cell_type": "code",
   "execution_count": 3,
   "metadata": {},
   "outputs": [],
   "source": [
    "# Double\n",
    "number3 = 100.58"
   ]
  },
  {
   "cell_type": "code",
   "execution_count": 4,
   "metadata": {},
   "outputs": [],
   "source": [
    "# Boolean\n",
    "'''\n",
    "0 = False\n",
    "1 = True\n",
    "'''\n",
    "isOdd = True\n",
    "isEven = 0"
   ]
  },
  {
   "cell_type": "code",
   "execution_count": 5,
   "metadata": {},
   "outputs": [],
   "source": [
    "# String\n",
    "'''\n",
    "Strings is immutable.\n",
    "Index diye new value Assign kora jay na.\n",
    "'''\n",
    "\n",
    "my_name = \"Hridoy Ahmed\""
   ]
  },
  {
   "cell_type": "code",
   "execution_count": 6,
   "metadata": {},
   "outputs": [
    {
     "name": "stdout",
     "output_type": "stream",
     "text": [
      "[10, 15, 'Char', 'String', 100.5]\n"
     ]
    }
   ],
   "source": [
    "# List\n",
    "'''\n",
    "List is mutable.\n",
    "Index diye new value Assign kora jay.\n",
    "'''\n",
    "\n",
    "my_list = [10, 15, \"Char\", \"String\", 100.5]\n",
    "print(my_list)"
   ]
  },
  {
   "cell_type": "code",
   "execution_count": 7,
   "metadata": {},
   "outputs": [],
   "source": [
    "my_list[0] = 50"
   ]
  },
  {
   "cell_type": "code",
   "execution_count": 8,
   "metadata": {},
   "outputs": [
    {
     "name": "stdout",
     "output_type": "stream",
     "text": [
      "[50, 15, 'Char', 'String', 100.5]\n"
     ]
    }
   ],
   "source": [
    "print(my_list)"
   ]
  },
  {
   "cell_type": "code",
   "execution_count": 9,
   "metadata": {},
   "outputs": [
    {
     "name": "stdout",
     "output_type": "stream",
     "text": [
      "(10, 15, 20, 50)\n"
     ]
    }
   ],
   "source": [
    "# Tuple\n",
    "\n",
    "'''\n",
    "Tuple is immutable.\n",
    "Index diye new value Assign kora jay na.\n",
    "'''\n",
    "my_tuple = (10, 15, 20, 50)\n",
    "print(my_tuple)"
   ]
  },
  {
   "cell_type": "code",
   "execution_count": 10,
   "metadata": {},
   "outputs": [
    {
     "ename": "TypeError",
     "evalue": "'tuple' object does not support item assignment",
     "output_type": "error",
     "traceback": [
      "\u001b[0;31m---------------------------------------------------------------------------\u001b[0m",
      "\u001b[0;31mTypeError\u001b[0m                                 Traceback (most recent call last)",
      "\u001b[0;32m<ipython-input-10-7202c080a1da>\u001b[0m in \u001b[0;36m<module>\u001b[0;34m\u001b[0m\n\u001b[0;32m----> 1\u001b[0;31m \u001b[0mmy_tuple\u001b[0m\u001b[0;34m[\u001b[0m\u001b[0;36m0\u001b[0m\u001b[0;34m]\u001b[0m \u001b[0;34m=\u001b[0m \u001b[0;36m5\u001b[0m\u001b[0;34m\u001b[0m\u001b[0;34m\u001b[0m\u001b[0m\n\u001b[0m",
      "\u001b[0;31mTypeError\u001b[0m: 'tuple' object does not support item assignment"
     ]
    }
   ],
   "source": [
    "my_tuple[0] = 5"
   ]
  },
  {
   "cell_type": "code",
   "execution_count": 11,
   "metadata": {},
   "outputs": [
    {
     "name": "stdout",
     "output_type": "stream",
     "text": [
      "25\n"
     ]
    }
   ],
   "source": [
    "# Dictionary\n",
    "\n",
    "'''\n",
    "Key and Value Thakbe.\n",
    "'''\n",
    "\n",
    "my_dict = {\n",
    "    # Key : Value\n",
    "    \"name\" : \"Hridoy\",\n",
    "    \"Age\" : 25\n",
    "}\n",
    "\n",
    "print(my_dict[\"Age\"])"
   ]
  },
  {
   "cell_type": "code",
   "execution_count": 12,
   "metadata": {},
   "outputs": [
    {
     "name": "stdout",
     "output_type": "stream",
     "text": [
      "{'name': 'Hridoy', 'Age': 25}\n"
     ]
    }
   ],
   "source": [
    "print(my_dict)"
   ]
  },
  {
   "cell_type": "code",
   "execution_count": 13,
   "metadata": {},
   "outputs": [],
   "source": [
    "# Dictionary inside List"
   ]
  },
  {
   "cell_type": "code",
   "execution_count": 14,
   "metadata": {},
   "outputs": [],
   "source": [
    "my_list = [\n",
    "    # Index 0\n",
    "    {\n",
    "        \"name\" : \"Hridoy\",\n",
    "        \"Age\" : 25\n",
    "    },\n",
    "    \n",
    "    # Index 1\n",
    "    {\n",
    "        # Index           0    1    2\n",
    "        \n",
    "        \"Number_List\" : [100, 200, 300],\n",
    "        \"Strings\" : \"psychoCoders\",\n",
    "        \"Booleans\" : True\n",
    "    }\n",
    "]"
   ]
  },
  {
   "cell_type": "code",
   "execution_count": 15,
   "metadata": {},
   "outputs": [
    {
     "name": "stdout",
     "output_type": "stream",
     "text": [
      "300\n"
     ]
    }
   ],
   "source": [
    "# To Print 300\n",
    "print(my_list[1][\"Number_List\"][2])"
   ]
  },
  {
   "cell_type": "code",
   "execution_count": 16,
   "metadata": {},
   "outputs": [
    {
     "name": "stdout",
     "output_type": "stream",
     "text": [
      "{1, 2, 3, 4, 5}\n"
     ]
    }
   ],
   "source": [
    "# Set\n",
    "\n",
    "'''\n",
    "Unique value\n",
    "'''\n",
    "\n",
    "my_set = {1, 1, 5, 5, 2, 3, 4}\n",
    "print(my_set)"
   ]
  },
  {
   "cell_type": "code",
   "execution_count": null,
   "metadata": {},
   "outputs": [],
   "source": []
  },
  {
   "cell_type": "code",
   "execution_count": null,
   "metadata": {},
   "outputs": [],
   "source": [
    "========================= Strings Advanced ======================================="
   ]
  },
  {
   "cell_type": "code",
   "execution_count": null,
   "metadata": {},
   "outputs": [],
   "source": [
    "# Docstring\n",
    "\n",
    "'''\n",
    "Docstring 3 ta dot er por likhte hoy \n",
    "r 3 ta dot diye shesh korte hoy eirokom vabe\n",
    "'''"
   ]
  },
  {
   "cell_type": "code",
   "execution_count": 17,
   "metadata": {},
   "outputs": [
    {
     "name": "stdout",
     "output_type": "stream",
     "text": [
      "Hridoy Ahmed\n"
     ]
    }
   ],
   "source": [
    "# Concetanation\n",
    "\n",
    "'''\n",
    "Ek string er sathe arek string add kora lagbe.\n",
    "string ar number ba onno kuno data type concat\n",
    "hbe na.\n",
    "'''\n",
    "\n",
    "firstname = \"Hridoy\"\n",
    "space = \" \"\n",
    "lastname = \"Ahmed\"\n",
    "\n",
    "print(firstname + space + lastname)"
   ]
  },
  {
   "cell_type": "code",
   "execution_count": 18,
   "metadata": {},
   "outputs": [
    {
     "name": "stdout",
     "output_type": "stream",
     "text": [
      "<class 'str'>\n"
     ]
    }
   ],
   "source": [
    "# Type conversion\n",
    "\n",
    "number = str(100)\n",
    "\n",
    "print(type(number))"
   ]
  },
  {
   "cell_type": "code",
   "execution_count": 19,
   "metadata": {},
   "outputs": [
    {
     "name": "stdout",
     "output_type": "stream",
     "text": [
      "<class 'int'>\n"
     ]
    }
   ],
   "source": [
    "number = int(number)\n",
    "print(type(number))"
   ]
  },
  {
   "cell_type": "code",
   "execution_count": 20,
   "metadata": {},
   "outputs": [
    {
     "ename": "SyntaxError",
     "evalue": "invalid syntax (<ipython-input-20-a2001f933070>, line 3)",
     "output_type": "error",
     "traceback": [
      "\u001b[0;36m  File \u001b[0;32m\"<ipython-input-20-a2001f933070>\"\u001b[0;36m, line \u001b[0;32m3\u001b[0m\n\u001b[0;31m    cat_string = 'It's a cat'\u001b[0m\n\u001b[0m                     ^\u001b[0m\n\u001b[0;31mSyntaxError\u001b[0m\u001b[0;31m:\u001b[0m invalid syntax\n"
     ]
    }
   ],
   "source": [
    "# Escape Sequence\n",
    "\n",
    "cat_string = 'It's a cat'"
   ]
  },
  {
   "cell_type": "code",
   "execution_count": 21,
   "metadata": {},
   "outputs": [
    {
     "name": "stdout",
     "output_type": "stream",
     "text": [
      "It's a cat\n"
     ]
    }
   ],
   "source": [
    "\n",
    "'''\n",
    "' ba \" er age \\ dite hoy.\n",
    "orthat \\ er porer symbol count hobe.\n",
    "\\ na dile count hbe na.\n",
    "\\t(tab) and \\n(new line) betikrom.\n",
    "'''\n",
    "\n",
    "\n",
    "cat_string = 'It\\'s a cat'\n",
    "print(cat_string)"
   ]
  },
  {
   "cell_type": "code",
   "execution_count": 22,
   "metadata": {},
   "outputs": [
    {
     "name": "stdout",
     "output_type": "stream",
     "text": [
      "It's a \"Kind of\" Sunny\n"
     ]
    }
   ],
   "source": [
    "weather = \"It\\'s a \\\"Kind of\\\" Sunny\"\n",
    "print(weather)"
   ]
  },
  {
   "cell_type": "code",
   "execution_count": 23,
   "metadata": {},
   "outputs": [
    {
     "name": "stdout",
     "output_type": "stream",
     "text": [
      "Welcome Hridoy Ahmed from Bangladesh\n",
      "Welcome Hridoy Ahmed from Bangladesh\n"
     ]
    }
   ],
   "source": [
    "# Formatted String\n",
    "\n",
    "firstname = \"Hridoy\"\n",
    "lastname = \"Ahmed\"\n",
    "country = \"Bangladesh\"\n",
    "\n",
    "print(f'Welcome {firstname} {lastname} from {country}')\n",
    "\n",
    "# Or\n",
    "\n",
    "print(\"Welcome {0} {1} from {2}\".format(firstname, lastname, country))\n"
   ]
  },
  {
   "cell_type": "code",
   "execution_count": 24,
   "metadata": {},
   "outputs": [
    {
     "name": "stdout",
     "output_type": "stream",
     "text": [
      "o\n",
      "y\n"
     ]
    }
   ],
   "source": [
    " # Indexing & Slicing\n",
    "    \n",
    "'''\n",
    "Starts counting from 0 index.\n",
    "'''\n",
    "#         -5-4-3-2-1\n",
    "#            012345\n",
    "my_string = \"Hridoy\"\n",
    "\n",
    "print(my_string[4])\n",
    "print(my_string[-1])"
   ]
  },
  {
   "cell_type": "code",
   "execution_count": 25,
   "metadata": {},
   "outputs": [
    {
     "name": "stdout",
     "output_type": "stream",
     "text": [
      "ridoy Ah\n",
      "rdyAm\n"
     ]
    }
   ],
   "source": [
    "'''\n",
    "start:end:stepover\n",
    "shuru:ag porjnto:koy ghor por por\n",
    "'''\n",
    "#            01234567891011\n",
    "my_string = \"Hridoy Ahmed\"\n",
    "\n",
    "print(my_string[1:9:1])\n",
    "print(my_string[1:10:2])"
   ]
  },
  {
   "cell_type": "code",
   "execution_count": 26,
   "metadata": {},
   "outputs": [
    {
     "name": "stdout",
     "output_type": "stream",
     "text": [
      "Hridoy\n"
     ]
    }
   ],
   "source": [
    "print(my_string[:6])"
   ]
  },
  {
   "cell_type": "code",
   "execution_count": 27,
   "metadata": {},
   "outputs": [
    {
     "name": "stdout",
     "output_type": "stream",
     "text": [
      "demhA yodirH\n"
     ]
    }
   ],
   "source": [
    "# Reverse\n",
    "print(my_string[::-1])"
   ]
  },
  {
   "cell_type": "code",
   "execution_count": 28,
   "metadata": {},
   "outputs": [
    {
     "name": "stdout",
     "output_type": "stream",
     "text": [
      "Hio\n"
     ]
    }
   ],
   "source": [
    "print(my_string[:6:2])"
   ]
  },
  {
   "cell_type": "code",
   "execution_count": 29,
   "metadata": {},
   "outputs": [
    {
     "name": "stdout",
     "output_type": "stream",
     "text": [
      "Hridoy Ahmed\n"
     ]
    }
   ],
   "source": [
    "print(my_string[:])"
   ]
  },
  {
   "cell_type": "code",
   "execution_count": null,
   "metadata": {},
   "outputs": [],
   "source": []
  },
  {
   "cell_type": "code",
   "execution_count": 30,
   "metadata": {},
   "outputs": [
    {
     "name": "stdout",
     "output_type": "stream",
     "text": [
      "6\n"
     ]
    }
   ],
   "source": [
    "# Built-in functions\n",
    "\n",
    "# Length     123456\n",
    "my_string = \"Hridoy\"\n",
    "\n",
    "print(len(my_string))"
   ]
  },
  {
   "cell_type": "code",
   "execution_count": null,
   "metadata": {},
   "outputs": [],
   "source": [
    "# Methods\n",
    "\n",
    "'''\n",
    "Original string a poriborton kore na\n",
    "'''"
   ]
  },
  {
   "cell_type": "code",
   "execution_count": 31,
   "metadata": {},
   "outputs": [
    {
     "name": "stdout",
     "output_type": "stream",
     "text": [
      "DHUR BAAL SIKHAR DORKAR SIKH\n"
     ]
    }
   ],
   "source": [
    "new_string = \"Dhur baal Sikhar dorkar sikh\"\n",
    "\n",
    "print(new_string.upper())"
   ]
  },
  {
   "cell_type": "code",
   "execution_count": 32,
   "metadata": {},
   "outputs": [
    {
     "name": "stdout",
     "output_type": "stream",
     "text": [
      "dhur baal sikhar dorkar sikh\n"
     ]
    }
   ],
   "source": [
    "print(new_string.lower())"
   ]
  },
  {
   "cell_type": "code",
   "execution_count": 33,
   "metadata": {},
   "outputs": [
    {
     "name": "stdout",
     "output_type": "stream",
     "text": [
      "Dhur baal sikhar dorkar sikh\n"
     ]
    }
   ],
   "source": [
    "print(new_string.capitalize())"
   ]
  },
  {
   "cell_type": "code",
   "execution_count": 34,
   "metadata": {},
   "outputs": [
    {
     "name": "stdout",
     "output_type": "stream",
     "text": [
      "5\n"
     ]
    }
   ],
   "source": [
    "print(new_string.find(\"baal\"))"
   ]
  },
  {
   "cell_type": "code",
   "execution_count": 35,
   "metadata": {},
   "outputs": [
    {
     "name": "stdout",
     "output_type": "stream",
     "text": [
      "Dhur vai Sikhar dorkar sikh\n"
     ]
    }
   ],
   "source": [
    "print(new_string.replace(\"baal\", \"vai\"))"
   ]
  },
  {
   "cell_type": "code",
   "execution_count": 36,
   "metadata": {},
   "outputs": [
    {
     "name": "stdout",
     "output_type": "stream",
     "text": [
      "Dhur baal Sikhar dorkar sikh\n"
     ]
    }
   ],
   "source": [
    "# Anyway, Methods don't change the original strings.\n",
    "print(new_string)"
   ]
  },
  {
   "cell_type": "code",
   "execution_count": null,
   "metadata": {},
   "outputs": [],
   "source": []
  },
  {
   "cell_type": "code",
   "execution_count": null,
   "metadata": {},
   "outputs": [],
   "source": [
    "========================= Lists Advanced ======================================="
   ]
  },
  {
   "cell_type": "code",
   "execution_count": 37,
   "metadata": {},
   "outputs": [
    {
     "name": "stdout",
     "output_type": "stream",
     "text": [
      "[10, 20, 'Strings', ['New List', 540, 'New_Strings']]\n"
     ]
    }
   ],
   "source": [
    "# List Slicing\n",
    "\n",
    "# Index     0   1      2          3(0)      3(1)     3(2)\n",
    "new_list = [10, 20, \"Strings\", [\"New List\", 540, \"New_Strings\"]]\n",
    "\n",
    "print(new_list)"
   ]
  },
  {
   "cell_type": "code",
   "execution_count": 38,
   "metadata": {},
   "outputs": [
    {
     "name": "stdout",
     "output_type": "stream",
     "text": [
      "New_Strings\n"
     ]
    }
   ],
   "source": [
    "print(new_list[3][2])"
   ]
  },
  {
   "cell_type": "code",
   "execution_count": 39,
   "metadata": {},
   "outputs": [
    {
     "name": "stdout",
     "output_type": "stream",
     "text": [
      "[10, 20]\n"
     ]
    }
   ],
   "source": [
    "# Start : End : Stepover\n",
    "\n",
    "print(new_list[:2])"
   ]
  },
  {
   "cell_type": "code",
   "execution_count": 40,
   "metadata": {},
   "outputs": [
    {
     "name": "stdout",
     "output_type": "stream",
     "text": [
      "[['New List', 540, 'New_Strings'], 'Strings', 20, 10]\n"
     ]
    }
   ],
   "source": [
    "print(new_list[::-1])"
   ]
  },
  {
   "cell_type": "code",
   "execution_count": 41,
   "metadata": {},
   "outputs": [],
   "source": [
    "new_list[0] = 500"
   ]
  },
  {
   "cell_type": "code",
   "execution_count": 42,
   "metadata": {},
   "outputs": [
    {
     "name": "stdout",
     "output_type": "stream",
     "text": [
      "[500, 20, 'Strings', ['New List', 540, 'New_Strings']]\n"
     ]
    }
   ],
   "source": [
    "print(new_list)"
   ]
  },
  {
   "cell_type": "code",
   "execution_count": null,
   "metadata": {},
   "outputs": [],
   "source": []
  },
  {
   "cell_type": "code",
   "execution_count": 43,
   "metadata": {},
   "outputs": [],
   "source": [
    "# Methods"
   ]
  },
  {
   "cell_type": "code",
   "execution_count": 44,
   "metadata": {},
   "outputs": [],
   "source": [
    "# Adding"
   ]
  },
  {
   "cell_type": "code",
   "execution_count": 45,
   "metadata": {},
   "outputs": [],
   "source": [
    "item_list = []"
   ]
  },
  {
   "cell_type": "code",
   "execution_count": 46,
   "metadata": {},
   "outputs": [],
   "source": [
    "item_list.append(10)"
   ]
  },
  {
   "cell_type": "code",
   "execution_count": 47,
   "metadata": {},
   "outputs": [
    {
     "name": "stdout",
     "output_type": "stream",
     "text": [
      "[10]\n"
     ]
    }
   ],
   "source": [
    "print(item_list)"
   ]
  },
  {
   "cell_type": "code",
   "execution_count": 48,
   "metadata": {},
   "outputs": [],
   "source": [
    "item_list.append(20)\n",
    "item_list.append(30)\n",
    "item_list.append(40)\n",
    "item_list.append(50)"
   ]
  },
  {
   "cell_type": "code",
   "execution_count": 49,
   "metadata": {},
   "outputs": [
    {
     "name": "stdout",
     "output_type": "stream",
     "text": [
      "[10, 20, 30, 40, 50]\n"
     ]
    }
   ],
   "source": [
    "print(item_list)"
   ]
  },
  {
   "cell_type": "code",
   "execution_count": 50,
   "metadata": {},
   "outputs": [],
   "source": [
    "'''\n",
    "insert can add value in specific location.\n",
    "append add value to the last index.\n",
    "'''\n",
    "\n",
    "item_list.insert(3, [500, 200, 450])"
   ]
  },
  {
   "cell_type": "code",
   "execution_count": 51,
   "metadata": {},
   "outputs": [
    {
     "name": "stdout",
     "output_type": "stream",
     "text": [
      "[10, 20, 30, [500, 200, 450], 40, 50]\n"
     ]
    }
   ],
   "source": [
    "print(item_list)"
   ]
  },
  {
   "cell_type": "code",
   "execution_count": 52,
   "metadata": {},
   "outputs": [
    {
     "name": "stdout",
     "output_type": "stream",
     "text": [
      "[10, 20, 30, [500, 200, 450], 40, 50, 10, 20, 30]\n"
     ]
    }
   ],
   "source": [
    "'''\n",
    "extend can add another list to the last index.\n",
    "But it removes []\n",
    "'''\n",
    "\n",
    "item_list.extend([10, 20, 30])\n",
    "print(item_list)"
   ]
  },
  {
   "cell_type": "code",
   "execution_count": null,
   "metadata": {},
   "outputs": [],
   "source": []
  },
  {
   "cell_type": "code",
   "execution_count": 53,
   "metadata": {},
   "outputs": [],
   "source": [
    "# Removing"
   ]
  },
  {
   "cell_type": "code",
   "execution_count": 54,
   "metadata": {},
   "outputs": [
    {
     "name": "stdout",
     "output_type": "stream",
     "text": [
      "[10, 20, 30, [500, 200, 450], 40, 50, 10, 20]\n"
     ]
    }
   ],
   "source": [
    "'''\n",
    "Pop removes the last item from the list.\n",
    "It can also remove specific item using indexing.\n",
    "'''\n",
    "\n",
    "item_list.pop()\n",
    "print(item_list)"
   ]
  },
  {
   "cell_type": "code",
   "execution_count": 55,
   "metadata": {},
   "outputs": [
    {
     "name": "stdout",
     "output_type": "stream",
     "text": [
      "[10, 20, 30, 40, 50, 10, 20]\n",
      "[500, 200, 450]\n"
     ]
    }
   ],
   "source": [
    "new_list = item_list.pop(3)\n",
    "print(item_list)\n",
    "print(new_list)"
   ]
  },
  {
   "cell_type": "code",
   "execution_count": 56,
   "metadata": {},
   "outputs": [
    {
     "name": "stdout",
     "output_type": "stream",
     "text": [
      "None\n"
     ]
    }
   ],
   "source": [
    "'''\n",
    "Pop return a value\n",
    "but remove doesn't return value.\n",
    "It only removes the first existing value.\n",
    "'''\n",
    "\n",
    "new_list = item_list.remove(10)\n",
    "print(new_list)"
   ]
  },
  {
   "cell_type": "code",
   "execution_count": 57,
   "metadata": {},
   "outputs": [
    {
     "name": "stdout",
     "output_type": "stream",
     "text": [
      "[20, 30, 40, 50, 10, 20]\n"
     ]
    }
   ],
   "source": [
    "print(item_list)"
   ]
  },
  {
   "cell_type": "code",
   "execution_count": null,
   "metadata": {},
   "outputs": [],
   "source": []
  },
  {
   "cell_type": "code",
   "execution_count": 58,
   "metadata": {},
   "outputs": [
    {
     "name": "stdout",
     "output_type": "stream",
     "text": [
      "4\n"
     ]
    }
   ],
   "source": [
    "# Index\n",
    "'''\n",
    "index(value, start, stop)\n",
    "'''\n",
    "\n",
    "print(item_list.index(10))"
   ]
  },
  {
   "cell_type": "code",
   "execution_count": 59,
   "metadata": {},
   "outputs": [
    {
     "ename": "ValueError",
     "evalue": "10 is not in list",
     "output_type": "error",
     "traceback": [
      "\u001b[0;31m---------------------------------------------------------------------------\u001b[0m",
      "\u001b[0;31mValueError\u001b[0m                                Traceback (most recent call last)",
      "\u001b[0;32m<ipython-input-59-e7833e4f3ab0>\u001b[0m in \u001b[0;36m<module>\u001b[0;34m\u001b[0m\n\u001b[1;32m      5\u001b[0m '''\n\u001b[1;32m      6\u001b[0m \u001b[0;34m\u001b[0m\u001b[0m\n\u001b[0;32m----> 7\u001b[0;31m \u001b[0mprint\u001b[0m\u001b[0;34m(\u001b[0m\u001b[0mitem_list\u001b[0m\u001b[0;34m.\u001b[0m\u001b[0mindex\u001b[0m\u001b[0;34m(\u001b[0m\u001b[0;36m10\u001b[0m\u001b[0;34m,\u001b[0m \u001b[0;36m0\u001b[0m\u001b[0;34m,\u001b[0m \u001b[0;36m3\u001b[0m\u001b[0;34m)\u001b[0m\u001b[0;34m)\u001b[0m\u001b[0;34m\u001b[0m\u001b[0;34m\u001b[0m\u001b[0m\n\u001b[0m",
      "\u001b[0;31mValueError\u001b[0m: 10 is not in list"
     ]
    }
   ],
   "source": [
    "'''\n",
    "We get an error because we start from 0 ==> 20\n",
    "and stop to 3 ==> 50.\n",
    "between these values 10 doesn't exit.\n",
    "'''\n",
    "\n",
    "print(item_list.index(10, 0, 3))"
   ]
  },
  {
   "cell_type": "code",
   "execution_count": 60,
   "metadata": {},
   "outputs": [
    {
     "name": "stdout",
     "output_type": "stream",
     "text": [
      "True\n"
     ]
    }
   ],
   "source": [
    "'''\n",
    "in keyword gives us boolean values\n",
    "if value exists in the list then it gives True\n",
    "otherwise False.\n",
    "'''\n",
    "print(10 in item_list)"
   ]
  },
  {
   "cell_type": "code",
   "execution_count": 61,
   "metadata": {},
   "outputs": [
    {
     "name": "stdout",
     "output_type": "stream",
     "text": [
      "2\n"
     ]
    }
   ],
   "source": [
    "'''\n",
    "count keyword counts how many values are in list\n",
    "'''\n",
    "print(item_list.count(20))"
   ]
  },
  {
   "cell_type": "code",
   "execution_count": 62,
   "metadata": {},
   "outputs": [
    {
     "name": "stdout",
     "output_type": "stream",
     "text": [
      "[10, 20, 20, 30, 40, 50]\n"
     ]
    }
   ],
   "source": [
    "'''\n",
    "sort keyword sort the list.\n",
    "It modifies the list.\n",
    "'''\n",
    "\n",
    "item_list.sort()\n",
    "print(item_list)"
   ]
  },
  {
   "cell_type": "code",
   "execution_count": 63,
   "metadata": {},
   "outputs": [
    {
     "name": "stdout",
     "output_type": "stream",
     "text": [
      "[5, 10, 20, 40, 50, 100]\n"
     ]
    }
   ],
   "source": [
    "'''\n",
    "sorted built in function also sort the list\n",
    "but it doesn\\'t modify the original list\n",
    "'''\n",
    "new_list = [20, 10, 50, 40, 100, 5]\n",
    "print(sorted(new_list))"
   ]
  },
  {
   "cell_type": "code",
   "execution_count": 64,
   "metadata": {},
   "outputs": [
    {
     "name": "stdout",
     "output_type": "stream",
     "text": [
      "[20, 10, 50, 40, 100, 5]\n"
     ]
    }
   ],
   "source": [
    "print(new_list)"
   ]
  },
  {
   "cell_type": "code",
   "execution_count": 67,
   "metadata": {},
   "outputs": [
    {
     "name": "stdout",
     "output_type": "stream",
     "text": [
      "['c', 'x', 'a', 'f', 'd']\n"
     ]
    }
   ],
   "source": [
    "'''\n",
    "reverse keyword reverse the list using index\n",
    "'''\n",
    "letter_list = ['d' , 'f', 'a', 'x', 'c']\n",
    "letter_list.reverse()\n",
    "print(letter_list)"
   ]
  },
  {
   "cell_type": "code",
   "execution_count": 68,
   "metadata": {},
   "outputs": [
    {
     "name": "stdout",
     "output_type": "stream",
     "text": [
      "['x', 'f', 'd', 'c', 'a']\n"
     ]
    }
   ],
   "source": [
    "'''\n",
    "For reversing alphabatically.\n",
    "We have to use sort firstly then reverse.\n",
    "'''\n",
    "letter_list.sort()\n",
    "letter_list.reverse()\n",
    "print(letter_list)"
   ]
  },
  {
   "cell_type": "code",
   "execution_count": 69,
   "metadata": {},
   "outputs": [
    {
     "name": "stdout",
     "output_type": "stream",
     "text": [
      "Amr!nam!Hridoy\n"
     ]
    }
   ],
   "source": [
    "# Join\n",
    "\n",
    "sentence = '!'\n",
    "\n",
    "new_sentence = sentence.join(['Amr', 'nam', 'Hridoy'])\n",
    "print(new_sentence)"
   ]
  },
  {
   "cell_type": "code",
   "execution_count": 70,
   "metadata": {},
   "outputs": [
    {
     "name": "stdout",
     "output_type": "stream",
     "text": [
      "[{'name': 'Hridoy', 'Age': 25}, {'Number_List': [100, 200, 300], 'Strings': 'psychoCoders', 'Booleans': True}]:[10, 20, 30]\n"
     ]
    }
   ],
   "source": [
    "# Separation\n",
    "first_list = [10, 20, 30]\n",
    "second_list = [10, 20, 30]\n",
    "print(my_list,second_list,sep=':')"
   ]
  },
  {
   "cell_type": "code",
   "execution_count": 71,
   "metadata": {},
   "outputs": [
    {
     "name": "stdout",
     "output_type": "stream",
     "text": [
      "1\n",
      "2\n",
      "3\n"
     ]
    }
   ],
   "source": [
    "# List Unpacking\n",
    "\n",
    "a,b,c = [1, 2, 3]\n",
    "\n",
    "print(a)\n",
    "print(b)\n",
    "print(c)"
   ]
  },
  {
   "cell_type": "code",
   "execution_count": 72,
   "metadata": {},
   "outputs": [
    {
     "name": "stdout",
     "output_type": "stream",
     "text": [
      "1\n",
      "2\n",
      "3\n",
      "[4, 5, 6, 7, 8]\n",
      "9\n"
     ]
    }
   ],
   "source": [
    "a,b,c, *other, d = [1, 2, 3, 4, 5, 6, 7, 8, 9]\n",
    "\n",
    "print(a)\n",
    "print(b)\n",
    "print(c)\n",
    "print(other)\n",
    "print(d)"
   ]
  },
  {
   "cell_type": "code",
   "execution_count": null,
   "metadata": {},
   "outputs": [],
   "source": []
  },
  {
   "cell_type": "code",
   "execution_count": null,
   "metadata": {},
   "outputs": [],
   "source": [
    "========================= Dictionary Advanced ======================================="
   ]
  },
  {
   "cell_type": "code",
   "execution_count": 73,
   "metadata": {},
   "outputs": [
    {
     "name": "stdout",
     "output_type": "stream",
     "text": [
      "shovan\n"
     ]
    }
   ],
   "source": [
    "# Keys\n",
    "\n",
    "'''\n",
    "Keys have to be unique.\n",
    "Otherwise it holds last value\n",
    "'''\n",
    "my_dict = {\n",
    "    'name' : 'hridoy',\n",
    "    'name': 'shovan'\n",
    "}\n",
    "\n",
    "print(my_dict['name'])"
   ]
  },
  {
   "cell_type": "code",
   "execution_count": 74,
   "metadata": {},
   "outputs": [],
   "source": [
    "# Methods"
   ]
  },
  {
   "cell_type": "code",
   "execution_count": 75,
   "metadata": {},
   "outputs": [
    {
     "name": "stdout",
     "output_type": "stream",
     "text": [
      "25\n"
     ]
    }
   ],
   "source": [
    "'''\n",
    "get method can insert keys and values\n",
    "if it doesn't exist yet.\n",
    "but doesn't modify original dictionary.\n",
    "'''\n",
    "user_dict = {\n",
    "    'name' : 'hridoy',\n",
    "    'country' : 'BD'\n",
    "}\n",
    "print(user_dict.get('Age', 25))"
   ]
  },
  {
   "cell_type": "code",
   "execution_count": 76,
   "metadata": {},
   "outputs": [
    {
     "name": "stdout",
     "output_type": "stream",
     "text": [
      "{'name': 'hridoy', 'country': 'BD'}\n"
     ]
    }
   ],
   "source": [
    "print(user_dict)"
   ]
  },
  {
   "cell_type": "code",
   "execution_count": 77,
   "metadata": {},
   "outputs": [
    {
     "name": "stdout",
     "output_type": "stream",
     "text": [
      "{'name': 'Asif', 'age': 24}\n"
     ]
    }
   ],
   "source": [
    "# Dictinary creation alternatively\n",
    "\n",
    "user2 = dict(name = \"Asif\", age = 24)\n",
    "print(user2)"
   ]
  },
  {
   "cell_type": "code",
   "execution_count": 78,
   "metadata": {},
   "outputs": [
    {
     "name": "stdout",
     "output_type": "stream",
     "text": [
      "True\n"
     ]
    }
   ],
   "source": [
    "print('name' in user2)"
   ]
  },
  {
   "cell_type": "code",
   "execution_count": 79,
   "metadata": {},
   "outputs": [
    {
     "name": "stdout",
     "output_type": "stream",
     "text": [
      "False\n"
     ]
    }
   ],
   "source": [
    "print('country' in user2)"
   ]
  },
  {
   "cell_type": "code",
   "execution_count": 80,
   "metadata": {},
   "outputs": [
    {
     "name": "stdout",
     "output_type": "stream",
     "text": [
      "True\n"
     ]
    }
   ],
   "source": [
    "print('name' in user2.keys())"
   ]
  },
  {
   "cell_type": "code",
   "execution_count": 81,
   "metadata": {},
   "outputs": [
    {
     "name": "stdout",
     "output_type": "stream",
     "text": [
      "True\n"
     ]
    }
   ],
   "source": [
    "print('Asif' in user2.values())"
   ]
  },
  {
   "cell_type": "code",
   "execution_count": 82,
   "metadata": {},
   "outputs": [
    {
     "name": "stdout",
     "output_type": "stream",
     "text": [
      "dict_items([('name', 'Asif'), ('age', 24)])\n"
     ]
    }
   ],
   "source": [
    "'''\n",
    "items gives tuple as output\n",
    "'''\n",
    "print(user2.items())"
   ]
  },
  {
   "cell_type": "code",
   "execution_count": 83,
   "metadata": {},
   "outputs": [
    {
     "name": "stdout",
     "output_type": "stream",
     "text": [
      "{}\n"
     ]
    }
   ],
   "source": [
    "'''\n",
    "clear removes the keys and values from dictionary\n",
    "'''\n",
    "user2.clear()\n",
    "print(user2)"
   ]
  },
  {
   "cell_type": "code",
   "execution_count": 84,
   "metadata": {},
   "outputs": [
    {
     "name": "stdout",
     "output_type": "stream",
     "text": [
      "{'name': 'hridoy', 'country': 'BD'}\n"
     ]
    }
   ],
   "source": [
    "'''\n",
    "copy keyword copies the dictionary\n",
    "'''\n",
    "user_dict = {\n",
    "    'name' : 'hridoy',\n",
    "    'country' : 'BD'\n",
    "}\n",
    "user2 = user_dict.copy()\n",
    "print(user2)"
   ]
  },
  {
   "cell_type": "code",
   "execution_count": 85,
   "metadata": {},
   "outputs": [
    {
     "name": "stdout",
     "output_type": "stream",
     "text": [
      "BD\n",
      "{'name': 'hridoy'}\n"
     ]
    }
   ],
   "source": [
    "'''\n",
    "pop returns the value from the dictionary\n",
    "and removes the last key value pair\n",
    "'''\n",
    "print(user2.pop('country'))\n",
    "print(user2)"
   ]
  },
  {
   "cell_type": "code",
   "execution_count": 86,
   "metadata": {},
   "outputs": [
    {
     "name": "stdout",
     "output_type": "stream",
     "text": [
      "{'name': 'hridoy', 'country': 'BD', 'Age': 25}\n"
     ]
    }
   ],
   "source": [
    "'''\n",
    "update updates the values of keys if exists or \n",
    "update new keys and values\n",
    "'''\n",
    "user_dict.update({'Age': 25})\n",
    "print(user_dict)"
   ]
  },
  {
   "cell_type": "code",
   "execution_count": null,
   "metadata": {},
   "outputs": [],
   "source": []
  },
  {
   "cell_type": "code",
   "execution_count": null,
   "metadata": {},
   "outputs": [],
   "source": [
    "=========================== Tuples Advanced ======================================="
   ]
  },
  {
   "cell_type": "code",
   "execution_count": 87,
   "metadata": {},
   "outputs": [
    {
     "name": "stdout",
     "output_type": "stream",
     "text": [
      "1\n",
      "2\n",
      "3\n",
      "[4, 5, 6, 7, 8]\n",
      "9\n"
     ]
    }
   ],
   "source": [
    "a,b,c, *other, d = (1, 2, 3, 4, 5, 6, 7, 8, 9)\n",
    "\n",
    "print(a)\n",
    "print(b)\n",
    "print(c)\n",
    "print(other)\n",
    "print(d)"
   ]
  },
  {
   "cell_type": "code",
   "execution_count": 88,
   "metadata": {},
   "outputs": [],
   "source": [
    "# Methods"
   ]
  },
  {
   "cell_type": "code",
   "execution_count": 89,
   "metadata": {},
   "outputs": [
    {
     "name": "stdout",
     "output_type": "stream",
     "text": [
      "3\n"
     ]
    }
   ],
   "source": [
    "'''\n",
    "count keyword dekhbe kotobar value ta tuple a ache\n",
    "'''\n",
    "\n",
    "my_tuple = (1, 2, 3, 4, 4, 4, 5, 6, 7, 8, 9)\n",
    "print(my_tuple.count(4))"
   ]
  },
  {
   "cell_type": "code",
   "execution_count": 90,
   "metadata": {},
   "outputs": [
    {
     "name": "stdout",
     "output_type": "stream",
     "text": [
      "8\n"
     ]
    }
   ],
   "source": [
    "'''\n",
    "index dekhbe koto number index a prothom value ta ache\n",
    "'''\n",
    "print(my_tuple.index(7))"
   ]
  },
  {
   "cell_type": "code",
   "execution_count": null,
   "metadata": {},
   "outputs": [],
   "source": []
  },
  {
   "cell_type": "code",
   "execution_count": null,
   "metadata": {},
   "outputs": [],
   "source": [
    "=========================== Tuples Advanced ======================================="
   ]
  },
  {
   "cell_type": "code",
   "execution_count": 91,
   "metadata": {},
   "outputs": [],
   "source": [
    "# Methods"
   ]
  },
  {
   "cell_type": "code",
   "execution_count": 92,
   "metadata": {},
   "outputs": [],
   "source": [
    "my_set = {10, 20, 30, 40}"
   ]
  },
  {
   "cell_type": "code",
   "execution_count": 93,
   "metadata": {},
   "outputs": [],
   "source": [
    "my_set.add(50)"
   ]
  },
  {
   "cell_type": "code",
   "execution_count": 94,
   "metadata": {},
   "outputs": [
    {
     "name": "stdout",
     "output_type": "stream",
     "text": [
      "{40, 10, 50, 20, 30}\n"
     ]
    }
   ],
   "source": [
    "print(my_set)"
   ]
  },
  {
   "cell_type": "code",
   "execution_count": 95,
   "metadata": {},
   "outputs": [
    {
     "name": "stdout",
     "output_type": "stream",
     "text": [
      "{1, 2, 3, 4, 5}\n"
     ]
    }
   ],
   "source": [
    "sample_list = [1, 1, 2, 3, 4, 5, 3]\n",
    "\n",
    "new_set = set(sample_list)\n",
    "print(new_set)"
   ]
  },
  {
   "cell_type": "code",
   "execution_count": 96,
   "metadata": {},
   "outputs": [
    {
     "name": "stdout",
     "output_type": "stream",
     "text": [
      "5\n"
     ]
    }
   ],
   "source": [
    "print(len(new_set))"
   ]
  },
  {
   "cell_type": "code",
   "execution_count": 97,
   "metadata": {},
   "outputs": [
    {
     "name": "stdout",
     "output_type": "stream",
     "text": [
      "[1, 2, 3, 4, 5]\n"
     ]
    }
   ],
   "source": [
    "print(list(new_set))"
   ]
  },
  {
   "cell_type": "code",
   "execution_count": 98,
   "metadata": {},
   "outputs": [
    {
     "name": "stdout",
     "output_type": "stream",
     "text": [
      "{1, 2, 3, 4, 5}\n"
     ]
    }
   ],
   "source": [
    "another_set = new_set.copy()\n",
    "print(another_set)"
   ]
  },
  {
   "cell_type": "code",
   "execution_count": 99,
   "metadata": {},
   "outputs": [
    {
     "name": "stdout",
     "output_type": "stream",
     "text": [
      "set()\n"
     ]
    }
   ],
   "source": [
    "another_set.clear()\n",
    "print(another_set)"
   ]
  },
  {
   "cell_type": "code",
   "execution_count": 100,
   "metadata": {},
   "outputs": [
    {
     "name": "stdout",
     "output_type": "stream",
     "text": [
      "{1, 2, 3}\n"
     ]
    }
   ],
   "source": [
    "my_set = {1, 2, 3, 4, 5}\n",
    "your_set = {4, 5, 6, 7, 8, 9, 10}\n",
    "\n",
    "print(my_set.difference(your_set))"
   ]
  },
  {
   "cell_type": "code",
   "execution_count": 101,
   "metadata": {},
   "outputs": [
    {
     "name": "stdout",
     "output_type": "stream",
     "text": [
      "{1, 2, 3, 4}\n"
     ]
    }
   ],
   "source": [
    "my_set.discard(5)\n",
    "print(my_set)"
   ]
  },
  {
   "cell_type": "code",
   "execution_count": 102,
   "metadata": {},
   "outputs": [],
   "source": [
    "'''\n",
    "differences are removed from the set\n",
    "'''\n",
    "my_set.difference_update(your_set)"
   ]
  },
  {
   "cell_type": "code",
   "execution_count": 103,
   "metadata": {},
   "outputs": [
    {
     "name": "stdout",
     "output_type": "stream",
     "text": [
      "{1, 2, 3}\n"
     ]
    }
   ],
   "source": [
    "print(my_set)"
   ]
  },
  {
   "cell_type": "code",
   "execution_count": 104,
   "metadata": {},
   "outputs": [
    {
     "name": "stdout",
     "output_type": "stream",
     "text": [
      "{4, 5}\n",
      "{4, 5}\n"
     ]
    }
   ],
   "source": [
    "'''\n",
    "intersection gives us common values from two sets.\n",
    "'''\n",
    "my_set = {1, 2, 3, 4, 5}\n",
    "your_set = {4, 5, 6, 7, 8, 9, 10}\n",
    "\n",
    "print(my_set.intersection(your_set))\n",
    "# or\n",
    "print(my_set & your_set)"
   ]
  },
  {
   "cell_type": "code",
   "execution_count": 105,
   "metadata": {},
   "outputs": [
    {
     "name": "stdout",
     "output_type": "stream",
     "text": [
      "{1, 2, 3, 4, 5, 6, 7, 8, 9, 10}\n",
      "{1, 2, 3, 4, 5, 6, 7, 8, 9, 10}\n"
     ]
    }
   ],
   "source": [
    "'''\n",
    "Union gives us all values from two sets.\n",
    "'''\n",
    "my_set = {1, 2, 3, 4, 5}\n",
    "your_set = {4, 5, 6, 7, 8, 9, 10}\n",
    "\n",
    "print(my_set.union(your_set))\n",
    "\n",
    "# or\n",
    "print(my_set | your_set)"
   ]
  },
  {
   "cell_type": "code",
   "execution_count": 106,
   "metadata": {},
   "outputs": [
    {
     "name": "stdout",
     "output_type": "stream",
     "text": [
      "False\n"
     ]
    }
   ],
   "source": [
    "'''\n",
    "isdisjoint return korbe true and false.\n",
    "common thakle false return korbe na thakle true.\n",
    "mane hocche check korbe set duitar value unique kina.\n",
    "'''\n",
    "my_set = {1, 2, 3, 4, 5}\n",
    "your_set = {4, 5, 6, 7, 8, 9, 10}\n",
    "\n",
    "print(my_set.isdisjoint(your_set))"
   ]
  },
  {
   "cell_type": "code",
   "execution_count": 107,
   "metadata": {},
   "outputs": [
    {
     "name": "stdout",
     "output_type": "stream",
     "text": [
      "True\n"
     ]
    }
   ],
   "source": [
    "'''\n",
    "issubset chcek korbe prothom set ta onno set er ekta ongsho kina.\n",
    "'''\n",
    "my_set = {4, 5}\n",
    "your_set = {4, 5, 6, 7, 8, 9, 10}\n",
    "\n",
    "print(my_set.issubset(your_set))"
   ]
  },
  {
   "cell_type": "code",
   "execution_count": 108,
   "metadata": {},
   "outputs": [
    {
     "name": "stdout",
     "output_type": "stream",
     "text": [
      "False\n"
     ]
    }
   ],
   "source": [
    "'''\n",
    "issuperset chcek korbe prothom set tar ongsho onno set kina.\n",
    "'''\n",
    "my_set = {4, 5}\n",
    "your_set = {4, 5, 6, 7, 8, 9, 10}\n",
    "\n",
    "print(my_set.issuperset(your_set))"
   ]
  },
  {
   "cell_type": "code",
   "execution_count": null,
   "metadata": {},
   "outputs": [],
   "source": []
  },
  {
   "cell_type": "code",
   "execution_count": null,
   "metadata": {},
   "outputs": [],
   "source": [
    "========================== Conditional Operation ======================================="
   ]
  },
  {
   "cell_type": "code",
   "execution_count": null,
   "metadata": {},
   "outputs": [],
   "source": [
    "'''\n",
    "it (condition):\n",
    "    execute\n",
    "elif (condition):\n",
    "    execute\n",
    "else:\n",
    "    execute\n",
    "'''"
   ]
  },
  {
   "cell_type": "code",
   "execution_count": 110,
   "metadata": {},
   "outputs": [
    {
     "name": "stdout",
     "output_type": "stream",
     "text": [
      "Positive\n"
     ]
    }
   ],
   "source": [
    "number = 10\n",
    "\n",
    "if number == 0:\n",
    "    print('It\\'s zero')\n",
    "    \n",
    "elif number > 0:\n",
    "    print('Positive')\n",
    "    \n",
    "else:\n",
    "    print('Negative')"
   ]
  },
  {
   "cell_type": "code",
   "execution_count": null,
   "metadata": {},
   "outputs": [],
   "source": []
  },
  {
   "cell_type": "code",
   "execution_count": 111,
   "metadata": {},
   "outputs": [
    {
     "name": "stdout",
     "output_type": "stream",
     "text": [
      "Even Odd Check\n",
      "15\n",
      "Odd number\n"
     ]
    }
   ],
   "source": [
    "# Take input from user\n",
    "\n",
    "'''\n",
    "By default input() returns a string type.\n",
    "we have to convert if needed\n",
    "'''\n",
    "\n",
    "problem_name = input()\n",
    "number = int(input())\n",
    "\n",
    "if (number %2 == 0):\n",
    "    print('Even Number')\n",
    "else:\n",
    "    print('Odd number')"
   ]
  },
  {
   "cell_type": "code",
   "execution_count": null,
   "metadata": {},
   "outputs": [],
   "source": []
  },
  {
   "cell_type": "code",
   "execution_count": null,
   "metadata": {},
   "outputs": [],
   "source": [
    "========================== Logical Operation ======================================="
   ]
  },
  {
   "cell_type": "code",
   "execution_count": null,
   "metadata": {},
   "outputs": [],
   "source": [
    "'''\n",
    "and\n",
    "or\n",
    "not\n",
    "'''"
   ]
  },
  {
   "cell_type": "code",
   "execution_count": 112,
   "metadata": {},
   "outputs": [
    {
     "name": "stdout",
     "output_type": "stream",
     "text": [
      "Login Successfully\n"
     ]
    }
   ],
   "source": [
    "username = 'hridoy'\n",
    "password = '1234'\n",
    "\n",
    "if (username == 'hridoy' and password == '1234'):\n",
    "    print('Login Successfully')\n",
    "else:\n",
    "    print('Login failed')"
   ]
  },
  {
   "cell_type": "code",
   "execution_count": 119,
   "metadata": {},
   "outputs": [
    {
     "name": "stdout",
     "output_type": "stream",
     "text": [
      "Less Possibility to get chicken dinner\n"
     ]
    }
   ],
   "source": [
    "short_range_gun = True\n",
    "sniper = False\n",
    "expert = False\n",
    "\n",
    "if short_range_gun and sniper and expert:\n",
    "    print(\"100% Possibility to get chicken dinner\")\n",
    "    \n",
    "elif short_range_gun and expert and not sniper:\n",
    "    print(\"70% Possibility to get chicken dinner\")\n",
    "    \n",
    "elif (short_range_gun or sniper) and not expert:\n",
    "    print(\"Less Possibility to get chicken dinner\")\n",
    "    \n",
    "else:\n",
    "    print(\"You are a noob\")"
   ]
  },
  {
   "cell_type": "code",
   "execution_count": null,
   "metadata": {},
   "outputs": [],
   "source": []
  },
  {
   "cell_type": "code",
   "execution_count": null,
   "metadata": {},
   "outputs": [],
   "source": [
    "============================== Loops ======================================="
   ]
  },
  {
   "cell_type": "code",
   "execution_count": 120,
   "metadata": {},
   "outputs": [],
   "source": [
    "# For loops"
   ]
  },
  {
   "cell_type": "code",
   "execution_count": 123,
   "metadata": {},
   "outputs": [
    {
     "name": "stdout",
     "output_type": "stream",
     "text": [
      "a\n",
      "b\n",
      "c\n",
      "d\n"
     ]
    }
   ],
   "source": [
    "item_list = ['a', 'b', 'c', 'd']\n",
    "\n",
    "'''\n",
    "item er jaygay je kuno var neya jabe\n",
    "like i, j, k, l etc.\n",
    "'''\n",
    "for item in item_list:\n",
    "    print(item)"
   ]
  },
  {
   "cell_type": "code",
   "execution_count": 124,
   "metadata": {},
   "outputs": [
    {
     "name": "stdout",
     "output_type": "stream",
     "text": [
      "0\n",
      "1\n",
      "2\n",
      "3\n",
      "4\n",
      "5\n",
      "6\n",
      "7\n",
      "8\n",
      "9\n"
     ]
    }
   ],
   "source": [
    "'''\n",
    "range(3)\n",
    "By default range starts from 0.\n",
    "It iterates from 0 to 3 here. // 0 1 2\n",
    "Amra jodi chai j 5 theke start hoye 15 er ag\n",
    "porjnto cholbe taile range(5, 15) likhte hbe.\n",
    "\n",
    "range(start, end, stepover) ==> range(0, 10, 2)\n",
    "'''\n",
    "\n",
    "for item in range(10):\n",
    "    print(item)"
   ]
  },
  {
   "cell_type": "code",
   "execution_count": 125,
   "metadata": {},
   "outputs": [
    {
     "name": "stdout",
     "output_type": "stream",
     "text": [
      "5\n",
      "6\n",
      "7\n",
      "8\n",
      "9\n",
      "10\n",
      "11\n",
      "12\n",
      "13\n",
      "14\n"
     ]
    }
   ],
   "source": [
    "for item in range(5, 15):\n",
    "    print(item)"
   ]
  },
  {
   "cell_type": "code",
   "execution_count": 134,
   "metadata": {},
   "outputs": [
    {
     "name": "stdout",
     "output_type": "stream",
     "text": [
      "0\n",
      "2\n",
      "4\n",
      "6\n",
      "8\n"
     ]
    }
   ],
   "source": [
    "for item in range(0, 10, 2):\n",
    "    print(item)"
   ]
  },
  {
   "cell_type": "code",
   "execution_count": 135,
   "metadata": {},
   "outputs": [
    {
     "name": "stdout",
     "output_type": "stream",
     "text": [
      "('name', 'Hridoy')\n",
      "('Country', 'BD')\n",
      "('Age', 25)\n"
     ]
    }
   ],
   "source": [
    "# For loops in dictionary\n",
    "\n",
    "'''\n",
    "For loop list, dictionary, tuple, set, string\n",
    "sobgulotei bebohar kora jabe\n",
    "'''\n",
    "user = {\n",
    "    'name' : 'Hridoy',\n",
    "    'Country' : 'BD',\n",
    "    'Age' : 25\n",
    "}\n",
    "\n",
    "for i in user.items():\n",
    "    print(i)"
   ]
  },
  {
   "cell_type": "code",
   "execution_count": 136,
   "metadata": {},
   "outputs": [
    {
     "name": "stdout",
     "output_type": "stream",
     "text": [
      "name\n",
      "Country\n",
      "Age\n"
     ]
    }
   ],
   "source": [
    "for j in user.keys():\n",
    "    print(j)"
   ]
  },
  {
   "cell_type": "code",
   "execution_count": 137,
   "metadata": {},
   "outputs": [
    {
     "name": "stdout",
     "output_type": "stream",
     "text": [
      "Hridoy\n",
      "BD\n",
      "25\n"
     ]
    }
   ],
   "source": [
    "for k in user.values():\n",
    "    print(k)"
   ]
  },
  {
   "cell_type": "code",
   "execution_count": 138,
   "metadata": {},
   "outputs": [],
   "source": [
    "# for loop in List"
   ]
  },
  {
   "cell_type": "code",
   "execution_count": 185,
   "metadata": {},
   "outputs": [
    {
     "name": "stdout",
     "output_type": "stream",
     "text": [
      "45\n"
     ]
    }
   ],
   "source": [
    "my_list = [1, 2, 3, 4, 5, 6, 7, 8, 9]\n",
    "\n",
    "add = 0\n",
    "\n",
    "for item in my_list:\n",
    "    add = add + item\n",
    "    \n",
    "print(add)"
   ]
  },
  {
   "cell_type": "code",
   "execution_count": 140,
   "metadata": {},
   "outputs": [
    {
     "name": "stdout",
     "output_type": "stream",
     "text": [
      "0 H\n",
      "1 r\n",
      "2 i\n",
      "3 d\n",
      "4 o\n",
      "5 y\n"
     ]
    }
   ],
   "source": [
    "# Enumerate\n",
    "'''\n",
    "enumerate by default 0 theke count kora shuru korbe.\n",
    "value assign korle value theke shuru korbe.\n",
    "'''\n",
    "for i, char in enumerate('Hridoy'):\n",
    "    print(i, char)"
   ]
  },
  {
   "cell_type": "code",
   "execution_count": 141,
   "metadata": {},
   "outputs": [
    {
     "name": "stdout",
     "output_type": "stream",
     "text": [
      "5 H\n",
      "6 r\n",
      "7 i\n",
      "8 d\n",
      "9 o\n",
      "10 y\n"
     ]
    }
   ],
   "source": [
    "for i, char in enumerate('Hridoy', 5):\n",
    "    print(i, char)"
   ]
  },
  {
   "cell_type": "code",
   "execution_count": null,
   "metadata": {},
   "outputs": [],
   "source": []
  },
  {
   "cell_type": "code",
   "execution_count": 142,
   "metadata": {},
   "outputs": [],
   "source": [
    "# While Loops"
   ]
  },
  {
   "cell_type": "code",
   "execution_count": 146,
   "metadata": {},
   "outputs": [
    {
     "name": "stdout",
     "output_type": "stream",
     "text": [
      "10\n",
      "11\n",
      "12\n",
      "13\n",
      "14\n",
      "15\n"
     ]
    }
   ],
   "source": [
    "'''\n",
    "while (condition):\n",
    "    execute\n",
    "'''\n",
    "number = 10\n",
    "while (number <= 15):\n",
    "    print(number)   \n",
    "    number += 1"
   ]
  },
  {
   "cell_type": "code",
   "execution_count": 149,
   "metadata": {},
   "outputs": [
    {
     "name": "stdout",
     "output_type": "stream",
     "text": [
      "10\n",
      "11\n",
      "12\n",
      "13\n",
      "14\n",
      "15\n",
      "Done\n"
     ]
    }
   ],
   "source": [
    "'''\n",
    "while loop kaj shesh kore else a jabe\n",
    "but while loop a break thakle else a jabe na.\n",
    "'''\n",
    "\n",
    "number = 10\n",
    "while (number <= 15):\n",
    "    print(number)   \n",
    "    number += 1\n",
    "else:\n",
    "    print('Done')"
   ]
  },
  {
   "cell_type": "code",
   "execution_count": 150,
   "metadata": {},
   "outputs": [
    {
     "name": "stdout",
     "output_type": "stream",
     "text": [
      "10\n"
     ]
    }
   ],
   "source": [
    "number = 10\n",
    "while (number <= 15):\n",
    "    print(number)   \n",
    "    number += 1\n",
    "    break\n",
    "else:\n",
    "    print('Done')"
   ]
  },
  {
   "cell_type": "code",
   "execution_count": 152,
   "metadata": {},
   "outputs": [
    {
     "name": "stdout",
     "output_type": "stream",
     "text": [
      "Enter your number: 5\n",
      "Enter your number: 2\n",
      "Enter your number: 1\n",
      "Enter your number: 0\n"
     ]
    }
   ],
   "source": [
    "# Continuous take input from user using while loops\n",
    "\n",
    "while True:\n",
    "    number = int(input('Enter your number: '))\n",
    "    \n",
    "    if (number == 0):\n",
    "        break"
   ]
  },
  {
   "cell_type": "code",
   "execution_count": 154,
   "metadata": {},
   "outputs": [
    {
     "ename": "SyntaxError",
     "evalue": "unexpected EOF while parsing (<ipython-input-154-8211ff77218d>, line 13)",
     "output_type": "error",
     "traceback": [
      "\u001b[0;36m  File \u001b[0;32m\"<ipython-input-154-8211ff77218d>\"\u001b[0;36m, line \u001b[0;32m13\u001b[0m\n\u001b[0;31m    \u001b[0m\n\u001b[0m    ^\u001b[0m\n\u001b[0;31mSyntaxError\u001b[0m\u001b[0;31m:\u001b[0m unexpected EOF while parsing\n"
     ]
    }
   ],
   "source": [
    "# Break, Continue, Pass\n",
    "\n",
    "'''\n",
    "Break use hoy loop loop thamanor jonno\n",
    "Continue loop chalanor jonno\n",
    "pass use kora hoy error handle korar jnno\n",
    "suppose, ami chacchi j ekta for loop niye pore\n",
    "kaj korbo tokhon pass kaje dey.\n",
    "'''\n",
    "\n",
    "\n",
    "for i in range(10):\n",
    "    "
   ]
  },
  {
   "cell_type": "code",
   "execution_count": 155,
   "metadata": {},
   "outputs": [],
   "source": [
    "for i in range(10):\n",
    "    pass"
   ]
  },
  {
   "cell_type": "code",
   "execution_count": null,
   "metadata": {},
   "outputs": [],
   "source": []
  },
  {
   "cell_type": "code",
   "execution_count": null,
   "metadata": {},
   "outputs": [],
   "source": [
    "============================== Functions ======================================="
   ]
  },
  {
   "cell_type": "code",
   "execution_count": 159,
   "metadata": {},
   "outputs": [],
   "source": [
    "'''\n",
    "we use functions to do the samethings over and over.\n",
    "\n",
    "def  function_name(parameters):\n",
    "    code\n",
    "    \n",
    "for calling a function:\n",
    "function_name(parameters value or, arguments)\n",
    "'''\n",
    "\n",
    "def even_odd_check(number):\n",
    "    if number % 2 == 0:\n",
    "        print('Even Number')\n",
    "    else:\n",
    "        print(\"Odd Number\")"
   ]
  },
  {
   "cell_type": "code",
   "execution_count": 160,
   "metadata": {},
   "outputs": [
    {
     "name": "stdout",
     "output_type": "stream",
     "text": [
      "Odd Number\n"
     ]
    }
   ],
   "source": [
    "even_odd_check(5)"
   ]
  },
  {
   "cell_type": "code",
   "execution_count": 161,
   "metadata": {},
   "outputs": [
    {
     "name": "stdout",
     "output_type": "stream",
     "text": [
      "Even Number\n"
     ]
    }
   ],
   "source": [
    "even_odd_check(10)"
   ]
  },
  {
   "cell_type": "code",
   "execution_count": 162,
   "metadata": {},
   "outputs": [],
   "source": [
    "# Default parameter"
   ]
  },
  {
   "cell_type": "code",
   "execution_count": 163,
   "metadata": {},
   "outputs": [
    {
     "ename": "TypeError",
     "evalue": "even_odd_check() missing 1 required positional argument: 'number'",
     "output_type": "error",
     "traceback": [
      "\u001b[0;31m---------------------------------------------------------------------------\u001b[0m",
      "\u001b[0;31mTypeError\u001b[0m                                 Traceback (most recent call last)",
      "\u001b[0;32m<ipython-input-163-86b163e16292>\u001b[0m in \u001b[0;36m<module>\u001b[0;34m\u001b[0m\n\u001b[1;32m      4\u001b[0m '''\n\u001b[1;32m      5\u001b[0m \u001b[0;34m\u001b[0m\u001b[0m\n\u001b[0;32m----> 6\u001b[0;31m \u001b[0meven_odd_check\u001b[0m\u001b[0;34m(\u001b[0m\u001b[0;34m)\u001b[0m\u001b[0;34m\u001b[0m\u001b[0;34m\u001b[0m\u001b[0m\n\u001b[0m",
      "\u001b[0;31mTypeError\u001b[0m: even_odd_check() missing 1 required positional argument: 'number'"
     ]
    }
   ],
   "source": [
    "'''\n",
    "parameter dichi kintu call korar somoy\n",
    "value dei nai se khetre error dekhabe,\n",
    "eita fix korar jnno default value set kore dite hoy function a.\n",
    "'''\n",
    "\n",
    "even_odd_check()"
   ]
  },
  {
   "cell_type": "code",
   "execution_count": 164,
   "metadata": {},
   "outputs": [],
   "source": [
    "def even_odd_check(number=5):\n",
    "    if number % 2 == 0:\n",
    "        print('Even Number')\n",
    "    else:\n",
    "        print(\"Odd Number\")"
   ]
  },
  {
   "cell_type": "code",
   "execution_count": 165,
   "metadata": {},
   "outputs": [
    {
     "name": "stdout",
     "output_type": "stream",
     "text": [
      "Odd Number\n"
     ]
    }
   ],
   "source": [
    "even_odd_check()"
   ]
  },
  {
   "cell_type": "code",
   "execution_count": 179,
   "metadata": {},
   "outputs": [
    {
     "data": {
      "text/plain": [
       "15"
      ]
     },
     "execution_count": 179,
     "metadata": {},
     "output_type": "execute_result"
    }
   ],
   "source": [
    "'''\n",
    "return keyword grab the value of the function.\n",
    "'''\n",
    "\n",
    "def add(number1, number2):\n",
    "    return number1 + number2\n",
    "\n",
    "add(5, 10)"
   ]
  },
  {
   "cell_type": "code",
   "execution_count": 180,
   "metadata": {},
   "outputs": [
    {
     "name": "stdout",
     "output_type": "stream",
     "text": [
      "\n",
      "    Info: This is a docstring\n",
      "    \n"
     ]
    }
   ],
   "source": [
    "# Docstring in function\n",
    "\n",
    "def test(a):\n",
    "    '''\n",
    "    Info: This is a docstring\n",
    "    '''\n",
    "    print(a)\n",
    "print(test.__doc__)"
   ]
  },
  {
   "cell_type": "code",
   "execution_count": 181,
   "metadata": {},
   "outputs": [],
   "source": [
    "# Arguments and Keyword agruments"
   ]
  },
  {
   "cell_type": "code",
   "execution_count": 182,
   "metadata": {},
   "outputs": [
    {
     "name": "stdout",
     "output_type": "stream",
     "text": [
      "(1, 2, 3, 4, 5)\n"
     ]
    }
   ],
   "source": [
    "'''\n",
    "Parameter hisebe *args dile eker odik arguments ba parameter value deya jay.\n",
    "'''\n",
    "\n",
    "def arg_check(*args):\n",
    "    print(args)\n",
    "arg_check(1, 2, 3, 4, 5)"
   ]
  },
  {
   "cell_type": "code",
   "execution_count": 189,
   "metadata": {},
   "outputs": [
    {
     "name": "stdout",
     "output_type": "stream",
     "text": [
      "The value of name_1 is Hridoy\n",
      "The value of name_2 is Asif\n",
      "The value of name_3 is Shovan\n"
     ]
    }
   ],
   "source": [
    "'''\n",
    "parameter hisebe **kwargs dile parameter value hisebe\n",
    "eker odhik keyword deya jay.\n",
    "\n",
    "Rule: params, *args, default params, **kwargs\n",
    "'''\n",
    "def print_values(**kwargs):\n",
    "    for key, value in kwargs.items():\n",
    "        print(\"The value of {} is {}\".format(key, value))\n",
    "\n",
    "print_values(\n",
    "            name_1=\"Hridoy\",\n",
    "            name_2=\"Asif\",\n",
    "            name_3=\"Shovan\"\n",
    "        )"
   ]
  },
  {
   "cell_type": "code",
   "execution_count": 192,
   "metadata": {},
   "outputs": [
    {
     "name": "stdout",
     "output_type": "stream",
     "text": [
      "5\n",
      "1\n"
     ]
    }
   ],
   "source": [
    "# Scope\n",
    "'''\n",
    "global scope and local scope ba variable.\n",
    "'''\n",
    "\n",
    "#global\n",
    "a = 1\n",
    "\n",
    "def scope_example():\n",
    "    #Local Scope\n",
    "    a = 5\n",
    "    return a\n",
    "    \n",
    "print(scope_example())\n",
    "print(a)"
   ]
  },
  {
   "cell_type": "code",
   "execution_count": 193,
   "metadata": {},
   "outputs": [
    {
     "ename": "UnboundLocalError",
     "evalue": "local variable 'count' referenced before assignment",
     "output_type": "error",
     "traceback": [
      "\u001b[0;31m---------------------------------------------------------------------------\u001b[0m",
      "\u001b[0;31mUnboundLocalError\u001b[0m                         Traceback (most recent call last)",
      "\u001b[0;32m<ipython-input-193-1dddb2c61bde>\u001b[0m in \u001b[0;36m<module>\u001b[0;34m\u001b[0m\n\u001b[1;32m      9\u001b[0m     \u001b[0;32mreturn\u001b[0m \u001b[0mcount\u001b[0m\u001b[0;34m\u001b[0m\u001b[0;34m\u001b[0m\u001b[0m\n\u001b[1;32m     10\u001b[0m \u001b[0;34m\u001b[0m\u001b[0m\n\u001b[0;32m---> 11\u001b[0;31m \u001b[0mprint\u001b[0m\u001b[0;34m(\u001b[0m\u001b[0mcounter\u001b[0m\u001b[0;34m(\u001b[0m\u001b[0;34m)\u001b[0m\u001b[0;34m)\u001b[0m\u001b[0;34m\u001b[0m\u001b[0;34m\u001b[0m\u001b[0m\n\u001b[0m",
      "\u001b[0;32m<ipython-input-193-1dddb2c61bde>\u001b[0m in \u001b[0;36mcounter\u001b[0;34m()\u001b[0m\n\u001b[1;32m      6\u001b[0m \u001b[0mcount\u001b[0m \u001b[0;34m=\u001b[0m \u001b[0;36m0\u001b[0m\u001b[0;34m\u001b[0m\u001b[0;34m\u001b[0m\u001b[0m\n\u001b[1;32m      7\u001b[0m \u001b[0;32mdef\u001b[0m \u001b[0mcounter\u001b[0m\u001b[0;34m(\u001b[0m\u001b[0;34m)\u001b[0m\u001b[0;34m:\u001b[0m\u001b[0;34m\u001b[0m\u001b[0;34m\u001b[0m\u001b[0m\n\u001b[0;32m----> 8\u001b[0;31m     \u001b[0mcount\u001b[0m \u001b[0;34m+=\u001b[0m \u001b[0;36m1\u001b[0m\u001b[0;34m\u001b[0m\u001b[0;34m\u001b[0m\u001b[0m\n\u001b[0m\u001b[1;32m      9\u001b[0m     \u001b[0;32mreturn\u001b[0m \u001b[0mcount\u001b[0m\u001b[0;34m\u001b[0m\u001b[0;34m\u001b[0m\u001b[0m\n\u001b[1;32m     10\u001b[0m \u001b[0;34m\u001b[0m\u001b[0m\n",
      "\u001b[0;31mUnboundLocalError\u001b[0m: local variable 'count' referenced before assignment"
     ]
    }
   ],
   "source": [
    "'''\n",
    "function er moddhe global variable use korte hole\n",
    "global keyword dite hobe ta chara error asbe.\n",
    "\n",
    "1) Local\n",
    "2) Parent local?\n",
    "3) Global\n",
    "'''\n",
    "\n",
    "count = 0\n",
    "def counter():\n",
    "    count += 1\n",
    "    return count\n",
    "\n",
    "print(counter())"
   ]
  },
  {
   "cell_type": "code",
   "execution_count": 195,
   "metadata": {},
   "outputs": [
    {
     "name": "stdout",
     "output_type": "stream",
     "text": [
      "11\n"
     ]
    }
   ],
   "source": [
    "count = 10\n",
    "def counter():\n",
    "    global count\n",
    "    count += 1\n",
    "    return count\n",
    "\n",
    "print(counter())"
   ]
  },
  {
   "cell_type": "code",
   "execution_count": 196,
   "metadata": {},
   "outputs": [],
   "source": [
    "# Nonlocal Keyword"
   ]
  },
  {
   "cell_type": "code",
   "execution_count": 204,
   "metadata": {},
   "outputs": [
    {
     "name": "stdout",
     "output_type": "stream",
     "text": [
      "Inner :  Nonlocal\n",
      "Outer :  Nonlocal\n"
     ]
    }
   ],
   "source": [
    "'''\n",
    "nonlocal keyword function er vitore\n",
    "local variable er value modify kore.\n",
    "'''\n",
    "def outer():\n",
    "    x = \"local\"\n",
    "    def inner():\n",
    "        nonlocal x\n",
    "        x = \"Nonlocal\"\n",
    "        print(\"Inner : \", x)\n",
    "    inner()\n",
    "    print(\"Outer : \", x)\n",
    "outer()"
   ]
  },
  {
   "cell_type": "code",
   "execution_count": null,
   "metadata": {},
   "outputs": [],
   "source": []
  },
  {
   "cell_type": "code",
   "execution_count": null,
   "metadata": {},
   "outputs": [],
   "source": [
    "============================== Extra ======================================="
   ]
  },
  {
   "cell_type": "code",
   "execution_count": 205,
   "metadata": {},
   "outputs": [
    {
     "name": "stdout",
     "output_type": "stream",
     "text": [
      "Enter Your Number: 10.2555651\n",
      "Your Number =  10.2555651\n"
     ]
    }
   ],
   "source": [
    "number = float(input(\"Enter Your Number: \"))\n",
    "\n",
    "print(\"Your Number = \", number)"
   ]
  },
  {
   "cell_type": "code",
   "execution_count": 208,
   "metadata": {},
   "outputs": [
    {
     "name": "stdout",
     "output_type": "stream",
     "text": [
      "Enter Your Number: 45.2544545\n",
      "Your Number = 45.25\n"
     ]
    }
   ],
   "source": [
    "'''\n",
    "kintu ami chai doshomiker pore 2 ghor ba 3 ghor dekhak.\n",
    "sekhetre amader % dite hobe r . ere por \n",
    "bole dite hobe ami koy ghor dekhte chai.\n",
    "r \"\"er por , thakbe na\n",
    "'''\n",
    "number = float(input(\"Enter Your Number: \"))\n",
    "\n",
    "print(\"Your Number = %.2f\"%number)"
   ]
  },
  {
   "cell_type": "code",
   "execution_count": null,
   "metadata": {},
   "outputs": [],
   "source": [
    "============================ Basics Done ==========================================================="
   ]
  }
 ],
 "metadata": {
  "kernelspec": {
   "display_name": "Python 3",
   "language": "python",
   "name": "python3"
  },
  "language_info": {
   "codemirror_mode": {
    "name": "ipython",
    "version": 3
   },
   "file_extension": ".py",
   "mimetype": "text/x-python",
   "name": "python",
   "nbconvert_exporter": "python",
   "pygments_lexer": "ipython3",
   "version": "3.8.3"
  }
 },
 "nbformat": 4,
 "nbformat_minor": 4
}
